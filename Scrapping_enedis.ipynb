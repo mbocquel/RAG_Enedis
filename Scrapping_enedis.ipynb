{
 "cells": [
  {
   "cell_type": "code",
   "execution_count": 1,
   "metadata": {},
   "outputs": [],
   "source": [
    "import requests\n",
    "from bs4 import BeautifulSoup\n",
    "import pandas as pd"
   ]
  },
  {
   "cell_type": "code",
   "execution_count": 43,
   "metadata": {},
   "outputs": [],
   "source": [
    "df = pd.read_csv(\"documents_enedis.csv\", index_col= 0)"
   ]
  },
  {
   "cell_type": "code",
   "execution_count": 2,
   "metadata": {},
   "outputs": [],
   "source": [
    "from scrapping.list_docs_enedis import ScrapListDocsEnedis"
   ]
  },
  {
   "cell_type": "code",
   "execution_count": 3,
   "metadata": {},
   "outputs": [],
   "source": [
    "test = ScrapListDocsEnedis()"
   ]
  },
  {
   "cell_type": "code",
   "execution_count": 9,
   "metadata": {},
   "outputs": [
    {
     "data": {
      "text/plain": [
       "True"
      ]
     },
     "execution_count": 9,
     "metadata": {},
     "output_type": "execute_result"
    }
   ],
   "source": [
    "type(df) == pd.core.frame.DataFrame"
   ]
  },
  {
   "cell_type": "code",
   "execution_count": 14,
   "metadata": {},
   "outputs": [
    {
     "name": "stdout",
     "output_type": "stream",
     "text": [
      "toto\n"
     ]
    }
   ],
   "source": [
    "if df is not None:\n",
    "    print(\"toto\")"
   ]
  },
  {
   "cell_type": "code",
   "execution_count": null,
   "metadata": {},
   "outputs": [],
   "source": [
    "data = []\n",
    "url_visited = []\n",
    "url_base = 'https://www.enedis.fr/documents'\n",
    "url = url_base\n",
    "\n",
    "for num_page in range(500):\n",
    "    if num_page % 10 == 0:\n",
    "        print(num_page)\n",
    "    response = requests.get(url)\n",
    "    url_visited.append(url)\n",
    "    soup = BeautifulSoup(response.text, 'html.parser')\n",
    "    page_content = soup.select(\".press-page__field\")\n",
    "    scrapping = []\n",
    "    scrap_elem = []\n",
    "    sep_list = [elem == page_content[0] for elem in page_content]\n",
    "\n",
    "    for i in range(1, len(sep_list)):\n",
    "        if sep_list[i]:\n",
    "            scrapping.append(scrap_elem)\n",
    "            scrap_elem = []\n",
    "        else:\n",
    "            scrap_elem.append([elem for elem in page_content[i].contents if elem != '\\n'])\n",
    "    scrapping.append(scrap_elem)\n",
    "\n",
    "    for pdf in scrapping:\n",
    "        new_data = [[\"\"]] * 5\n",
    "        for elem in pdf:\n",
    "            if type(elem) == list and len(elem):\n",
    "                if \"attrs\" in elem[0].__dict__ and 'href' in elem[0].__dict__.get(\"attrs\") and 'aria-label' not in elem[0].__dict__.get(\"attrs\"):\n",
    "                    new_data[0] = \"https://www.enedis.fr\" + elem[0].__dict__.get(\"attrs\").get('href')\n",
    "                elif \"attrs\" in elem[0].__dict__ and 'datetime' in elem[0].__dict__.get(\"attrs\"):\n",
    "                    new_data[2] = elem[0].__dict__.get(\"attrs\").get('datetime')\n",
    "                elif \"attrs\" in elem[0].__dict__ and 'aria-label' in elem[0].__dict__.get(\"attrs\"):\n",
    "                    new_data[4] = elem[0].__dict__.get(\"attrs\").get('aria-label')\n",
    "                elif new_data[1] == [\"\"]:\n",
    "                    new_data[1] = str(elem[0]).strip().replace(\",\", \";\")\n",
    "                else:\n",
    "                    new_data[3] = str(elem[0]).strip().replace(\",\", \";\")\n",
    "        data.append(new_data)\n",
    "\n",
    "    next = soup.select(\".pager__next\")\n",
    "    if not next:\n",
    "        break\n",
    "    url = url_base + next[0].attrs.get(\"href\")"
   ]
  },
  {
   "cell_type": "code",
   "execution_count": null,
   "metadata": {},
   "outputs": [],
   "source": [
    "df_pdf_enedis = pd.DataFrame(data, columns=['url', 'type', \"date\", \"content\", \"file_info\"])"
   ]
  },
  {
   "cell_type": "code",
   "execution_count": 97,
   "metadata": {},
   "outputs": [],
   "source": [
    "df_pdf_enedis.to_csv(\"documents_enedis.csv\")"
   ]
  },
  {
   "cell_type": "code",
   "execution_count": 4,
   "metadata": {},
   "outputs": [],
   "source": [
    "test.load_page()"
   ]
  },
  {
   "cell_type": "code",
   "execution_count": 5,
   "metadata": {},
   "outputs": [],
   "source": [
    "test.get_page_data()"
   ]
  },
  {
   "cell_type": "code",
   "execution_count": 6,
   "metadata": {},
   "outputs": [],
   "source": [
    "test.create_dataframe()"
   ]
  },
  {
   "cell_type": "code",
   "execution_count": 9,
   "metadata": {},
   "outputs": [
    {
     "data": {
      "text/plain": [
       "[['https://www.enedis.fr/media/4107/download',\n",
       "  'Référentiel clientèle',\n",
       "  '2024-05-21T09:03:25+02:00',\n",
       "  \"Suite à la délibération de la CRE n° 2024-42 du 15 février 2024; relative à la mise en œuvre de la généralisation des options tarifaires à 4 plages temporelles du TURPE HTA-BT; cette procédure a pour objectif de préciser les modalités de mise en œuvre de la généralisation de l'option tarifaire à 4 plages temporelles.\",\n",
       "  'Enedis-NMO-CF_007E.pdf, fichier PDF,1.45 Mo'],\n",
       " ['https://www.enedis.fr/media/2164/download',\n",
       "  'Documentation technique de référence',\n",
       "  '2024-05-16T00:21:00+02:00',\n",
       "  'Ce document décrit les études des variations rapides de tension qui sont menées pour le raccordement d’une production décentralisée en HTA.',\n",
       "  'Enedis-PRO-RES_12E.pdf, fichier PDF,473.78 Ko'],\n",
       " ['https://www.enedis.fr/media/2073/download',\n",
       "  'Documentation technique de référence',\n",
       "  '2024-05-16T00:20:00+02:00',\n",
       "  \"Ce document est le mode d’emploi permettant de remplir les différentes fiches techniques à compléter par un Demandeur dans le cadre d’une demande de raccordement; au Réseau Public de Distribution géré par Enedis; d'une Installation de Production ou susceptible d’injecter et de soutirer; de puissance supérieure à 36 kVA.\",\n",
       "  'Enedis-OPE-RES_08E.pdf, fichier PDF,918.34 Ko'],\n",
       " ['https://www.enedis.fr/media/1969/download',\n",
       "  'Documentation technique de référence',\n",
       "  '2024-05-16T00:19:00+02:00',\n",
       "  \"Les articles D321-10 et suivants; ainsi que les articles D342-62 à 24 du Code de l’énergie relatifs aux Schémas Régionaux de Raccordement au Réseau des Énergies Renouvelables (SRRRER) prévus par l'article L. 321-7 du Code de l’énergie; définissent les conditions de raccordement aux Réseaux Publics d’électricité des Installations de Production d’électricité à partir de sources d’énergies renouvelables.\",\n",
       "  'Enedis-FOR-RES_062E.pdf, fichier PDF,681.61 Ko'],\n",
       " ['https://www.enedis.fr/media/1968/download',\n",
       "  'Documentation technique de référence',\n",
       "  '2024-05-16T00:18:00+02:00',\n",
       "  'Ce document constitue le modèle de l’Avenant à la Proposition Technique et Financière en application des dispositions de l’article L. 342-6 du Code de l’énergie pour le raccordement au Réseau Public de Distribution d’électricité HTA d’une Installation de Production; ou susceptible d’injecter et de soutirer; pour les cas ne relevant pas d’un Schéma de Raccordement au Réseau des Énergies Renouvelables (SRRRER).',\n",
       "  'Enedis-FOR-RES_061E.pdf, fichier PDF,707.91 Ko']]"
      ]
     },
     "execution_count": 9,
     "metadata": {},
     "output_type": "execute_result"
    }
   ],
   "source": [
    "test.data"
   ]
  },
  {
   "cell_type": "code",
   "execution_count": 8,
   "metadata": {},
   "outputs": [
    {
     "data": {
      "text/html": [
       "<div>\n",
       "<style scoped>\n",
       "    .dataframe tbody tr th:only-of-type {\n",
       "        vertical-align: middle;\n",
       "    }\n",
       "\n",
       "    .dataframe tbody tr th {\n",
       "        vertical-align: top;\n",
       "    }\n",
       "\n",
       "    .dataframe thead th {\n",
       "        text-align: right;\n",
       "    }\n",
       "</style>\n",
       "<table border=\"1\" class=\"dataframe\">\n",
       "  <thead>\n",
       "    <tr style=\"text-align: right;\">\n",
       "      <th></th>\n",
       "      <th>url</th>\n",
       "      <th>type</th>\n",
       "      <th>date</th>\n",
       "      <th>content</th>\n",
       "      <th>file_info</th>\n",
       "    </tr>\n",
       "  </thead>\n",
       "  <tbody>\n",
       "    <tr>\n",
       "      <th>0</th>\n",
       "      <td>https://www.enedis.fr/media/4107/download</td>\n",
       "      <td>Référentiel clientèle</td>\n",
       "      <td>2024-05-21T09:03:25+02:00</td>\n",
       "      <td>Suite à la délibération de la CRE n° 2024-42 d...</td>\n",
       "      <td>Enedis-NMO-CF_007E.pdf, fichier PDF,1.45 Mo</td>\n",
       "    </tr>\n",
       "    <tr>\n",
       "      <th>1</th>\n",
       "      <td>https://www.enedis.fr/media/2164/download</td>\n",
       "      <td>Documentation technique de référence</td>\n",
       "      <td>2024-05-16T00:21:00+02:00</td>\n",
       "      <td>Ce document décrit les études des variations r...</td>\n",
       "      <td>Enedis-PRO-RES_12E.pdf, fichier PDF,473.78 Ko</td>\n",
       "    </tr>\n",
       "    <tr>\n",
       "      <th>2</th>\n",
       "      <td>https://www.enedis.fr/media/2073/download</td>\n",
       "      <td>Documentation technique de référence</td>\n",
       "      <td>2024-05-16T00:20:00+02:00</td>\n",
       "      <td>Ce document est le mode d’emploi permettant de...</td>\n",
       "      <td>Enedis-OPE-RES_08E.pdf, fichier PDF,918.34 Ko</td>\n",
       "    </tr>\n",
       "    <tr>\n",
       "      <th>3</th>\n",
       "      <td>https://www.enedis.fr/media/1969/download</td>\n",
       "      <td>Documentation technique de référence</td>\n",
       "      <td>2024-05-16T00:19:00+02:00</td>\n",
       "      <td>Les articles D321-10 et suivants; ainsi que le...</td>\n",
       "      <td>Enedis-FOR-RES_062E.pdf, fichier PDF,681.61 Ko</td>\n",
       "    </tr>\n",
       "    <tr>\n",
       "      <th>4</th>\n",
       "      <td>https://www.enedis.fr/media/1968/download</td>\n",
       "      <td>Documentation technique de référence</td>\n",
       "      <td>2024-05-16T00:18:00+02:00</td>\n",
       "      <td>Ce document constitue le modèle de l’Avenant à...</td>\n",
       "      <td>Enedis-FOR-RES_061E.pdf, fichier PDF,707.91 Ko</td>\n",
       "    </tr>\n",
       "  </tbody>\n",
       "</table>\n",
       "</div>"
      ],
      "text/plain": [
       "                                         url  \\\n",
       "0  https://www.enedis.fr/media/4107/download   \n",
       "1  https://www.enedis.fr/media/2164/download   \n",
       "2  https://www.enedis.fr/media/2073/download   \n",
       "3  https://www.enedis.fr/media/1969/download   \n",
       "4  https://www.enedis.fr/media/1968/download   \n",
       "\n",
       "                                   type                       date  \\\n",
       "0                 Référentiel clientèle  2024-05-21T09:03:25+02:00   \n",
       "1  Documentation technique de référence  2024-05-16T00:21:00+02:00   \n",
       "2  Documentation technique de référence  2024-05-16T00:20:00+02:00   \n",
       "3  Documentation technique de référence  2024-05-16T00:19:00+02:00   \n",
       "4  Documentation technique de référence  2024-05-16T00:18:00+02:00   \n",
       "\n",
       "                                             content  \\\n",
       "0  Suite à la délibération de la CRE n° 2024-42 d...   \n",
       "1  Ce document décrit les études des variations r...   \n",
       "2  Ce document est le mode d’emploi permettant de...   \n",
       "3  Les articles D321-10 et suivants; ainsi que le...   \n",
       "4  Ce document constitue le modèle de l’Avenant à...   \n",
       "\n",
       "                                        file_info  \n",
       "0     Enedis-NMO-CF_007E.pdf, fichier PDF,1.45 Mo  \n",
       "1   Enedis-PRO-RES_12E.pdf, fichier PDF,473.78 Ko  \n",
       "2   Enedis-OPE-RES_08E.pdf, fichier PDF,918.34 Ko  \n",
       "3  Enedis-FOR-RES_062E.pdf, fichier PDF,681.61 Ko  \n",
       "4  Enedis-FOR-RES_061E.pdf, fichier PDF,707.91 Ko  "
      ]
     },
     "execution_count": 8,
     "metadata": {},
     "output_type": "execute_result"
    }
   ],
   "source": [
    "test.dataframe"
   ]
  },
  {
   "cell_type": "code",
   "execution_count": 40,
   "metadata": {},
   "outputs": [],
   "source": [
    "df2 = pd.DataFrame(test.data, columns=['url', 'type', \"date\", \"content\", \"file_info\"])"
   ]
  },
  {
   "cell_type": "code",
   "execution_count": 41,
   "metadata": {},
   "outputs": [
    {
     "data": {
      "text/html": [
       "<div>\n",
       "<style scoped>\n",
       "    .dataframe tbody tr th:only-of-type {\n",
       "        vertical-align: middle;\n",
       "    }\n",
       "\n",
       "    .dataframe tbody tr th {\n",
       "        vertical-align: top;\n",
       "    }\n",
       "\n",
       "    .dataframe thead th {\n",
       "        text-align: right;\n",
       "    }\n",
       "</style>\n",
       "<table border=\"1\" class=\"dataframe\">\n",
       "  <thead>\n",
       "    <tr style=\"text-align: right;\">\n",
       "      <th></th>\n",
       "      <th>url</th>\n",
       "      <th>type</th>\n",
       "      <th>date</th>\n",
       "      <th>content</th>\n",
       "      <th>file_info</th>\n",
       "    </tr>\n",
       "  </thead>\n",
       "  <tbody>\n",
       "    <tr>\n",
       "      <th>0</th>\n",
       "      <td>https://www.enedis.fr/media/4107/download</td>\n",
       "      <td>Référentiel clientèle</td>\n",
       "      <td>2024-05-21T09:03:25+02:00</td>\n",
       "      <td>Suite à la délibération de la CRE n° 2024-42 d...</td>\n",
       "      <td>Enedis-NMO-CF_007E.pdf, fichier PDF,1.45 Mo</td>\n",
       "    </tr>\n",
       "    <tr>\n",
       "      <th>1</th>\n",
       "      <td>https://www.enedis.fr/media/2164/download</td>\n",
       "      <td>Documentation technique de référence</td>\n",
       "      <td>2024-05-16T00:21:00+02:00</td>\n",
       "      <td>Ce document décrit les études des variations r...</td>\n",
       "      <td>Enedis-PRO-RES_12E.pdf, fichier PDF,473.78 Ko</td>\n",
       "    </tr>\n",
       "    <tr>\n",
       "      <th>2</th>\n",
       "      <td>https://www.enedis.fr/media/2073/download</td>\n",
       "      <td>Documentation technique de référence</td>\n",
       "      <td>2024-05-16T00:20:00+02:00</td>\n",
       "      <td>Ce document est le mode d’emploi permettant de...</td>\n",
       "      <td>Enedis-OPE-RES_08E.pdf, fichier PDF,918.34 Ko</td>\n",
       "    </tr>\n",
       "    <tr>\n",
       "      <th>3</th>\n",
       "      <td>https://www.enedis.fr/media/1969/download</td>\n",
       "      <td>Documentation technique de référence</td>\n",
       "      <td>2024-05-16T00:19:00+02:00</td>\n",
       "      <td>Les articles D321-10 et suivants; ainsi que le...</td>\n",
       "      <td>Enedis-FOR-RES_062E.pdf, fichier PDF,681.61 Ko</td>\n",
       "    </tr>\n",
       "    <tr>\n",
       "      <th>4</th>\n",
       "      <td>https://www.enedis.fr/media/1968/download</td>\n",
       "      <td>Documentation technique de référence</td>\n",
       "      <td>2024-05-16T00:18:00+02:00</td>\n",
       "      <td>Ce document constitue le modèle de l’Avenant à...</td>\n",
       "      <td>Enedis-FOR-RES_061E.pdf, fichier PDF,707.91 Ko</td>\n",
       "    </tr>\n",
       "  </tbody>\n",
       "</table>\n",
       "</div>"
      ],
      "text/plain": [
       "                                         url  \\\n",
       "0  https://www.enedis.fr/media/4107/download   \n",
       "1  https://www.enedis.fr/media/2164/download   \n",
       "2  https://www.enedis.fr/media/2073/download   \n",
       "3  https://www.enedis.fr/media/1969/download   \n",
       "4  https://www.enedis.fr/media/1968/download   \n",
       "\n",
       "                                   type                       date  \\\n",
       "0                 Référentiel clientèle  2024-05-21T09:03:25+02:00   \n",
       "1  Documentation technique de référence  2024-05-16T00:21:00+02:00   \n",
       "2  Documentation technique de référence  2024-05-16T00:20:00+02:00   \n",
       "3  Documentation technique de référence  2024-05-16T00:19:00+02:00   \n",
       "4  Documentation technique de référence  2024-05-16T00:18:00+02:00   \n",
       "\n",
       "                                             content  \\\n",
       "0  Suite à la délibération de la CRE n° 2024-42 d...   \n",
       "1  Ce document décrit les études des variations r...   \n",
       "2  Ce document est le mode d’emploi permettant de...   \n",
       "3  Les articles D321-10 et suivants; ainsi que le...   \n",
       "4  Ce document constitue le modèle de l’Avenant à...   \n",
       "\n",
       "                                        file_info  \n",
       "0     Enedis-NMO-CF_007E.pdf, fichier PDF,1.45 Mo  \n",
       "1   Enedis-PRO-RES_12E.pdf, fichier PDF,473.78 Ko  \n",
       "2   Enedis-OPE-RES_08E.pdf, fichier PDF,918.34 Ko  \n",
       "3  Enedis-FOR-RES_062E.pdf, fichier PDF,681.61 Ko  \n",
       "4  Enedis-FOR-RES_061E.pdf, fichier PDF,707.91 Ko  "
      ]
     },
     "execution_count": 41,
     "metadata": {},
     "output_type": "execute_result"
    }
   ],
   "source": [
    "df2"
   ]
  },
  {
   "cell_type": "code",
   "execution_count": null,
   "metadata": {},
   "outputs": [],
   "source": []
  }
 ],
 "metadata": {
  "kernelspec": {
   "display_name": "venv",
   "language": "python",
   "name": "python3"
  },
  "language_info": {
   "codemirror_mode": {
    "name": "ipython",
    "version": 3
   },
   "file_extension": ".py",
   "mimetype": "text/x-python",
   "name": "python",
   "nbconvert_exporter": "python",
   "pygments_lexer": "ipython3",
   "version": "3.10.13"
  }
 },
 "nbformat": 4,
 "nbformat_minor": 2
}
